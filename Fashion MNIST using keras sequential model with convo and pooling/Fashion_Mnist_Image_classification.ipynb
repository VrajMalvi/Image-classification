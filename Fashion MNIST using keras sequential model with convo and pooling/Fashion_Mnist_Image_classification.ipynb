{
  "nbformat": 4,
  "nbformat_minor": 0,
  "metadata": {
    "colab": {
      "name": "Fashion Mnist Image classification.ipynb",
      "provenance": [],
      "collapsed_sections": []
    },
    "kernelspec": {
      "name": "python3",
      "display_name": "Python 3"
    },
    "language_info": {
      "name": "python"
    }
  },
  "cells": [
    {
      "cell_type": "markdown",
      "source": [
        "## Fashion MNIST\n",
        "\n",
        "this data set is directly available on tensorflow adn keras library, so that we can import this data set from libraries without downloading.\n",
        "\n",
        "(clothing Images)\n",
        "\n",
        "\n",
        "*  it is consist of 60K example for training and 10K examples for test data. Each example is a 28 x 28 grayscale Image, associated woth lable form 10 class.\n",
        "\n",
        "T-shirt/top, Trouser, Pullover, Dress, Coat, Sandal, Shirt, Sneaker, Bag, Ankle boot (starting 0 to 9)\n"
      ],
      "metadata": {
        "id": "KRn66ExqTwUm"
      }
    },
    {
      "cell_type": "code",
      "execution_count": 1,
      "metadata": {
        "id": "z_XKAz6eQ5tZ"
      },
      "outputs": [],
      "source": [
        "from tensorflow.keras import layers\n",
        "from keras.datasets import fashion_mnist\n",
        "from tensorflow.keras.utils import to_categorical\n",
        "from keras.models import Sequential\n",
        "from keras.layers import Conv2D\n",
        "from keras.layers import MaxPooling2D\n",
        "from keras.layers import Dense\n",
        "from keras.layers import Flatten\n",
        "from tensorflow.keras.optimizers import SGD\n",
        "from numpy import mean\n",
        "from numpy import std\n",
        "import matplotlib.pyplot as plt\n",
        "from sklearn.model_selection import KFold\n",
        "from tensorflow.keras.utils import plot_model"
      ]
    },
    {
      "cell_type": "code",
      "source": [
        "# Load train and test dataset\n",
        "\n",
        "def load_dataset():\n",
        "  (trainX, trainY), (testX, testY) = fashion_mnist.load_data()\n",
        "\n",
        "# reshape dataset to have single channel\n",
        "  # shape[0] will give no of data which is 60K we know, image width and hight = 28, color perameter gray = 1\n",
        "  trainX = trainX.reshape((trainX.shape[0], 28, 28, 1))\n",
        "  testX = testX.reshape((testX.shape[0], 28, 28, 1))\n",
        "\n",
        "# One hot encode target values since problem is multi class(with int 0 to 9), so instead of [0 1 2 3] it will be [1 0 0] for 1, [010] for 2\n",
        "\n",
        "  trainY = to_categorical(trainY)\n",
        "  testY = to_categorical(testY)\n",
        "\n",
        "  return trainX, trainY, testX, testY"
      ],
      "metadata": {
        "id": "8iVFRPMba42t"
      },
      "execution_count": 2,
      "outputs": []
    },
    {
      "cell_type": "markdown",
      "source": [
        "pixel values for image dataset are unsigned int range of 0 to 255 (for gray scale)"
      ],
      "metadata": {
        "id": "nH0dpp6dfVLD"
      }
    },
    {
      "cell_type": "code",
      "source": [
        "# Scale Pixels \n",
        "def prep_pixels(train,test):\n",
        "\n",
        "# convert from integers to floats\n",
        "  train_norm = train.astype('float32')\n",
        "  test_norm= test.astype('float32')\n",
        "\n",
        "# normalize to range 0-1 \n",
        "  train_norm = train_norm / 255.0   # divided by 255 as it was max range for gray scale\n",
        "  test_norm = test_norm / 255.0\n",
        "\n",
        "# return normalized range\n",
        "  return train_norm, test_norm"
      ],
      "metadata": {
        "id": "ntepBjDtc43c"
      },
      "execution_count": 3,
      "outputs": []
    },
    {
      "cell_type": "code",
      "source": [
        "# define CNN model\n",
        "def define_model():\n",
        "  \n",
        "  model = Sequential()\n",
        "  model.add(Conv2D(32, (3,3), activation='relu', kernel_initializer='he_uniform', input_shape=(28,28,1)))\n",
        "  model.add(MaxPooling2D((2,2)))  # stride will be 2 as we didnt define it it will take default null which is same as pool size\n",
        "  model.add(Flatten())\n",
        "  model.add(Dense(100, activation='relu', kernel_initializer='he_uniform'))  # 100 node\n",
        "  model.add(Dense(10, activation='softmax')) # 10 node in output as we have 10 classes\n",
        "\n",
        "# Compile model\n",
        "\n",
        "  # Stocastic gradient descent\n",
        "  opt = SGD(learning_rate=0.01, momentum=0.9)\n",
        "  model.compile(optimizer=opt, loss='categorical_crossentropy', metrics=['accuracy']) \n",
        "  # we are dealing with multiclass classification so we use categorical_crossentropy as loss function\n",
        "  \n",
        "  model.summary()\n",
        "  plot_model(model, to_file = 'CNN_seq.png')\n",
        "  \n",
        "  return model"
      ],
      "metadata": {
        "id": "Ee5nlBIuhG1j"
      },
      "execution_count": 4,
      "outputs": []
    },
    {
      "cell_type": "code",
      "source": [
        "# run the test harness for evaluating a model\n",
        "def run_test_harness():\n",
        "\t# load dataset\n",
        "\ttrainX, trainY, testX, testY = load_dataset()\n",
        "\t# prepare pixel data\n",
        "\ttrainX, testX = prep_pixels(trainX, testX)\n",
        "\t# define model\n",
        "\tmodel = define_model()\n",
        "\t# fit model\n",
        "\tmodel.fit(trainX, trainY, epochs=10, batch_size=32, verbose=0)\n",
        "\t# save model to use in other files\n",
        "\tmodel.save('final_model.h5')\n"
      ],
      "metadata": {
        "id": "hRCYJQcRkZUj"
      },
      "execution_count": 5,
      "outputs": []
    },
    {
      "cell_type": "code",
      "source": [
        "# entry point, run the test harness\n",
        "run_test_harness()"
      ],
      "metadata": {
        "colab": {
          "base_uri": "https://localhost:8080/"
        },
        "id": "nTA6I14mly_q",
        "outputId": "46ef0309-3db0-4215-aa0a-85a2e7f8691c"
      },
      "execution_count": 6,
      "outputs": [
        {
          "output_type": "stream",
          "name": "stdout",
          "text": [
            "Downloading data from https://storage.googleapis.com/tensorflow/tf-keras-datasets/train-labels-idx1-ubyte.gz\n",
            "32768/29515 [=================================] - 0s 0us/step\n",
            "40960/29515 [=========================================] - 0s 0us/step\n",
            "Downloading data from https://storage.googleapis.com/tensorflow/tf-keras-datasets/train-images-idx3-ubyte.gz\n",
            "26427392/26421880 [==============================] - 0s 0us/step\n",
            "26435584/26421880 [==============================] - 0s 0us/step\n",
            "Downloading data from https://storage.googleapis.com/tensorflow/tf-keras-datasets/t10k-labels-idx1-ubyte.gz\n",
            "16384/5148 [===============================================================================================] - 0s 0us/step\n",
            "Downloading data from https://storage.googleapis.com/tensorflow/tf-keras-datasets/t10k-images-idx3-ubyte.gz\n",
            "4423680/4422102 [==============================] - 0s 0us/step\n",
            "4431872/4422102 [==============================] - 0s 0us/step\n",
            "Model: \"sequential\"\n",
            "_________________________________________________________________\n",
            " Layer (type)                Output Shape              Param #   \n",
            "=================================================================\n",
            " conv2d (Conv2D)             (None, 26, 26, 32)        320       \n",
            "                                                                 \n",
            " max_pooling2d (MaxPooling2D  (None, 13, 13, 32)       0         \n",
            " )                                                               \n",
            "                                                                 \n",
            " flatten (Flatten)           (None, 5408)              0         \n",
            "                                                                 \n",
            " dense (Dense)               (None, 100)               540900    \n",
            "                                                                 \n",
            " dense_1 (Dense)             (None, 10)                1010      \n",
            "                                                                 \n",
            "=================================================================\n",
            "Total params: 542,230\n",
            "Trainable params: 542,230\n",
            "Non-trainable params: 0\n",
            "_________________________________________________________________\n"
          ]
        }
      ]
    },
    {
      "cell_type": "code",
      "source": [
        "# make a prediction for a new image.\n",
        "import numpy as np\n",
        "import matplotlib.pyplot as plt\n",
        "import matplotlib.image as mpimg\n",
        "from keras.preprocessing.image import load_img\n",
        "from keras.preprocessing.image import img_to_array\n",
        "from keras.models import load_model\n",
        "def load_image(filename):\n",
        "    #load the image\n",
        "    img = load_img(filename, grayscale=True, target_size=(28, 28))\n",
        "    #convert to array\n",
        "    img = img_to_array(img)\n",
        "    #reshape into a single sample with 1 channel\n",
        "    img = img.reshape(1, 28, 28, 1)\n",
        "    #prepare pixel data\n",
        "    img = img.astype('float32')\n",
        "    img = img / 255.0\n",
        "    return img\n",
        "\n",
        "img1 = mpimg.imread('sample_image.png')\n",
        "imgplot = plt.imshow(img1)\n",
        "plt.show()\n",
        "img = load_image(\"sample_image.png\")\n",
        "\n",
        "model = load_model('final_model.h5') #saved model for this fiel\n",
        "\n",
        "# predict the class\n",
        "result = np.argmax(model.predict(img), axis=-1)\n",
        "print('\\n')\n",
        "if result[0] == 0:\n",
        "    print(\"Top\")\n",
        "elif result[0] == 1:\n",
        "    print(\"Trouser\")\n",
        "elif result[0] == 2:\n",
        "    print(\"Pullover\")\n",
        "elif result[0] == 3:\n",
        "    print(\"Dress\")\n",
        "elif result[0] == 4:\n",
        "    print(\"Coat\")\n",
        "elif result[0] == 5:\n",
        "    print(\"Sandal\")\n",
        "elif result[0] == 6:\n",
        "    print(\"Shirt\")\n",
        "elif result[0] == 7:\n",
        "    print(\"Sneaker\")\n",
        "elif result[0] == 8:\n",
        "    print(\"Bag\")\n",
        "elif result[0] == 9:\n",
        "    print(\"Ankle Boot\")\n",
        "else:\n",
        "    print(\"Not in the list\")\n",
        "print('\\n')"
      ],
      "metadata": {
        "colab": {
          "base_uri": "https://localhost:8080/",
          "height": 416
        },
        "id": "w5zAHcZB2thY",
        "outputId": "854a88c2-d493-4a99-d772-c4356448313c"
      },
      "execution_count": 11,
      "outputs": [
        {
          "output_type": "display_data",
          "data": {
            "text/plain": [
              "<Figure size 432x288 with 1 Axes>"
            ],
            "image/png": "[encoded data removed]"
          },
          "metadata": {
            "needs_background": "light"
          }
        },
        {
          "output_type": "stream",
          "name": "stdout",
          "text": [
            "\n",
            "\n",
            "Pullover\n",
            "\n",
            "\n"
          ]
        },
        {
          "output_type": "stream",
          "name": "stderr",
          "text": [
            "/usr/local/lib/python3.7/dist-packages/keras_preprocessing/image/utils.py:107: UserWarning: grayscale is deprecated. Please use color_mode = \"grayscale\"\n",
            "  warnings.warn('grayscale is deprecated. Please use '\n"
          ]
        }
      ]
    },
    {
      "cell_type": "code",
      "source": [
        ""
      ],
      "metadata": {
        "id": "P-4BLHrw2sw1"
      },
      "execution_count": null,
      "outputs": []
    }
  ]
}