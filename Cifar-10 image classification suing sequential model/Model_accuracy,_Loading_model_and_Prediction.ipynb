{
  "nbformat": 4,
  "nbformat_minor": 0,
  "metadata": {
    "colab": {
      "name": "Model-accuracy,_Loading-model_and Prediction.ipynb",
      "provenance": [],
      "collapsed_sections": []
    },
    "kernelspec": {
      "name": "python3",
      "display_name": "Python 3"
    },
    "language_info": {
      "name": "python"
    }
  },
  "cells": [
    {
      "cell_type": "code",
      "source": [
        "from keras.datasets import cifar10\n",
        "from keras.models import load_model\n",
        "from tensorflow.keras.utils import to_categorical\n",
        " \n",
        "# load train and test dataset\n",
        "def load_dataset():\n",
        "\t# load dataset\n",
        "\t(trainX, trainY), (testX, testY) = cifar10.load_data()\n",
        "\t# one hot encode target values\n",
        "\ttrainY = to_categorical(trainY)\n",
        "\ttestY = to_categorical(testY)\n",
        "\treturn trainX, trainY, testX, testY\n",
        " \n",
        "# scale pixels\n",
        "def prep_pixels(train, test):\n",
        "\t# convert from integers to floats\n",
        "\ttrain_norm = train.astype('float32')\n",
        "\ttest_norm = test.astype('float32')\n",
        "\t# normalize to range 0-1\n",
        "\ttrain_norm = train_norm / 255.0\n",
        "\ttest_norm = test_norm / 255.0\n",
        "\t# return normalized images\n",
        "\treturn train_norm, test_norm\n",
        " \n",
        "# run the test harness for evaluating a model\n",
        "def run_test_harness():\n",
        "\t# load dataset\n",
        "\ttrainX, trainY, testX, testY = load_dataset()\n",
        "\t# prepare pixel data\n",
        "\ttrainX, testX = prep_pixels(trainX, testX)\n",
        "\t# load model\n",
        "\tmodel = load_model('final_model.h5')\n",
        "\t# evaluate model on test dataset\n",
        "\t_, acc = model.evaluate(testX, testY, verbose=0)\n",
        "\tprint('accuracy> %.3f' % (acc * 100.0))\n",
        " \n",
        "# entry point, run the test harness\n",
        "run_test_harness()"
      ],
      "metadata": {
        "colab": {
          "base_uri": "https://localhost:8080/"
        },
        "id": "eLzrrP2avJS3",
        "outputId": "f3a92b85-5a7a-4e8f-f938-49912dc18ac7"
      },
      "execution_count": 23,
      "outputs": [
        {
          "output_type": "stream",
          "name": "stdout",
          "text": [
            "accuracy> 74.600\n"
          ]
        }
      ]
    },
    {
      "cell_type": "code",
      "execution_count": 24,
      "metadata": {
        "id": "ER--kTrJkC5s"
      },
      "outputs": [],
      "source": [
        "# make a prediction for a new image.\n",
        "\n",
        "import matplotlib.pyplot as plt\n",
        "import matplotlib.image as mpimg\n",
        "\n",
        "from keras.preprocessing.image import load_img\n",
        "from keras.preprocessing.image import img_to_array\n",
        "from keras.models import load_model\n",
        "\n",
        "import numpy as np"
      ]
    },
    {
      "cell_type": "code",
      "source": [
        "# load and prepare the image\n",
        "def load_image(filename):\n",
        "\t# load the image\n",
        "\timg = load_img(filename, target_size=(32, 32))\n",
        "\t# convert to array\n",
        "\timg = img_to_array(img)\n",
        "\t# reshape into a single sample with 3 channels\n",
        "\timg = img.reshape(1, 32, 32, 3)\n",
        "\t# prepare pixel data\n",
        "\timg = img.astype('float32')\n",
        "\timg = img / 255.0\n",
        "\treturn img"
      ],
      "metadata": {
        "id": "yVHqhLVskTaj"
      },
      "execution_count": 25,
      "outputs": []
    },
    {
      "cell_type": "code",
      "source": [
        "# load an image and predict the class\n",
        "def run_example():\n",
        "  # plot img\n",
        "  img1 = mpimg.imread('sample.png')\n",
        "  imgplot = plt.imshow(img1)\n",
        "  plt.show()\n",
        "\t# load the image\n",
        "  img = load_image('sample.png')\n",
        "\t# load model\n",
        "  model = load_model('final_model.h5')\n",
        "\t# predict the class\n",
        "  result = np.argmax(model.predict(img), axis=-1)\n",
        "  \n",
        "  print('\\n\\n')\n",
        "  if result[0] == 0:\n",
        "    print(\"airplane\")\n",
        "  elif result[0] == 1:\n",
        "      print(\"automobile\")\n",
        "  elif result[0] == 2:\n",
        "      print(\"bird\")\n",
        "  elif result[0] == 3:\n",
        "      print(\"cat\")\n",
        "  elif result[0] == 4:\n",
        "      print(\"deer\")\n",
        "  elif result[0] == 5:\n",
        "      print(\"dog\")\n",
        "  elif result[0] == 6:\n",
        "      print(\"frog\")\n",
        "  elif result[0] == 7:\n",
        "      print(\"horse\")\n",
        "  elif result[0] == 8:\n",
        "      print(\"ship\")\n",
        "  elif result[0] == 9:\n",
        "      print(\"truck\")\n",
        "  else:\n",
        "      print(\"Not in the list\")"
      ],
      "metadata": {
        "id": "2LtH0gtdtiSy"
      },
      "execution_count": 26,
      "outputs": []
    },
    {
      "cell_type": "code",
      "source": [
        " \n",
        "# entry point, run the example\n",
        "run_example()"
      ],
      "metadata": {
        "colab": {
          "base_uri": "https://localhost:8080/",
          "height": 380
        },
        "id": "xN6RLW1mtnnx",
        "outputId": "0bed051c-5b5c-4a1e-f2e0-a057c11dad8d"
      },
      "execution_count": 27,
      "outputs": [
        {
          "output_type": "display_data",
          "data": {
            "text/plain": [
              "<Figure size 432x288 with 1 Axes>"
            ],
            "image/png": "[encoded data removed]"
          },
          "metadata": {
            "needs_background": "light"
          }
        },
        {
          "output_type": "stream",
          "name": "stdout",
          "text": [
            "WARNING:tensorflow:6 out of the last 6 calls to <function Model.make_predict_function.<locals>.predict_function at 0x7f508676c8c0> triggered tf.function retracing. Tracing is expensive and the excessive number of tracings could be due to (1) creating @tf.function repeatedly in a loop, (2) passing tensors with different shapes, (3) passing Python objects instead of tensors. For (1), please define your @tf.function outside of the loop. For (2), @tf.function has experimental_relax_shapes=True option that relaxes argument shapes that can avoid unnecessary retracing. For (3), please refer to https://www.tensorflow.org/guide/function#controlling_retracing and https://www.tensorflow.org/api_docs/python/tf/function for  more details.\n",
            "\n",
            "\n",
            "\n",
            "deer\n"
          ]
        }
      ]
    },
    {
      "cell_type": "markdown",
      "source": [
        "I get warning about predict_classes which is not used insted we will use below (i get it from stack overflow):\n",
        "\n",
        "   *  np.argmax(model.predict(x), axis=-1), if your model does multi-class\n",
        "classification (e.g. if it uses a softmax last-layer activation).\n",
        "   * (model.predict(x) > 0.5).astype(\"int32\"), if your model does binary classification (e.g. if it uses a sigmoid last-layer activation).\n"
      ],
      "metadata": {
        "id": "ujqePy0ynTPd"
      }
    }
  ]
}